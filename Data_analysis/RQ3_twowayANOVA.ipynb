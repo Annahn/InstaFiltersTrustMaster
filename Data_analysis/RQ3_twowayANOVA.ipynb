{
 "cells": [
  {
   "cell_type": "code",
   "execution_count": 8,
   "id": "6991283c",
   "metadata": {},
   "outputs": [],
   "source": [
    "# All the imports and packages used\n",
    "import pandas as pd \n",
    "import researchpy as rp\n",
    "import numpy as np\n",
    "import scipy.stats as stats\n",
    "import statsmodels.api as sm\n",
    "from statsmodels.formula.api import ols\n",
    "import matplotlib.pyplot as plt\n",
    "import seaborn as sns\n",
    "\n",
    "\n",
    "# Read the dataset\n",
    "df = pd.read_csv('rq3_2dataset.csv')"
   ]
  },
  {
   "cell_type": "markdown",
   "id": "c450f6df",
   "metadata": {},
   "source": [
    "# RQ3 - Two way ANOVA for topic and filters effect on perceived trust"
   ]
  },
  {
   "cell_type": "code",
   "execution_count": 9,
   "id": "1d575b76",
   "metadata": {},
   "outputs": [],
   "source": [
    "df['Filter'] = df['Filter'].apply(lambda x: 1 if x != 0 else x)"
   ]
  },
  {
   "cell_type": "code",
   "execution_count": 10,
   "id": "9c958c77",
   "metadata": {},
   "outputs": [
    {
     "data": {
      "text/html": [
       "<div>\n",
       "<style scoped>\n",
       "    .dataframe tbody tr th:only-of-type {\n",
       "        vertical-align: middle;\n",
       "    }\n",
       "\n",
       "    .dataframe tbody tr th {\n",
       "        vertical-align: top;\n",
       "    }\n",
       "\n",
       "    .dataframe thead th {\n",
       "        text-align: right;\n",
       "    }\n",
       "</style>\n",
       "<table border=\"1\" class=\"dataframe\">\n",
       "  <thead>\n",
       "    <tr style=\"text-align: right;\">\n",
       "      <th></th>\n",
       "      <th>sum_sq</th>\n",
       "      <th>df</th>\n",
       "      <th>F</th>\n",
       "      <th>PR(&gt;F)</th>\n",
       "    </tr>\n",
       "  </thead>\n",
       "  <tbody>\n",
       "    <tr>\n",
       "      <th>C(Filter)</th>\n",
       "      <td>4.936149</td>\n",
       "      <td>1.0</td>\n",
       "      <td>6.266374</td>\n",
       "      <td>1.250136e-02</td>\n",
       "    </tr>\n",
       "    <tr>\n",
       "      <th>C(Topic)</th>\n",
       "      <td>82.429613</td>\n",
       "      <td>3.0</td>\n",
       "      <td>34.881088</td>\n",
       "      <td>3.329665e-21</td>\n",
       "    </tr>\n",
       "    <tr>\n",
       "      <th>C(Topic):C(Filter)</th>\n",
       "      <td>18.457249</td>\n",
       "      <td>3.0</td>\n",
       "      <td>7.810408</td>\n",
       "      <td>3.826640e-05</td>\n",
       "    </tr>\n",
       "    <tr>\n",
       "      <th>Residual</th>\n",
       "      <td>636.477925</td>\n",
       "      <td>808.0</td>\n",
       "      <td>NaN</td>\n",
       "      <td>NaN</td>\n",
       "    </tr>\n",
       "  </tbody>\n",
       "</table>\n",
       "</div>"
      ],
      "text/plain": [
       "                        sum_sq     df          F        PR(>F)\n",
       "C(Filter)             4.936149    1.0   6.266374  1.250136e-02\n",
       "C(Topic)             82.429613    3.0  34.881088  3.329665e-21\n",
       "C(Topic):C(Filter)   18.457249    3.0   7.810408  3.826640e-05\n",
       "Residual            636.477925  808.0        NaN           NaN"
      ]
     },
     "execution_count": 10,
     "metadata": {},
     "output_type": "execute_result"
    }
   ],
   "source": [
    "model = ols('Avg ~ C(Filter) + C(Topic) + C(Topic)*C(Filter)', data=df).fit()\n",
    "\n",
    "aov_table = sm.stats.anova_lm(model, typ=2)\n",
    "aov_table"
   ]
  },
  {
   "cell_type": "code",
   "execution_count": 11,
   "id": "cf7249b8",
   "metadata": {},
   "outputs": [
    {
     "data": {
      "text/html": [
       "<div>\n",
       "<style scoped>\n",
       "    .dataframe tbody tr th:only-of-type {\n",
       "        vertical-align: middle;\n",
       "    }\n",
       "\n",
       "    .dataframe tbody tr th {\n",
       "        vertical-align: top;\n",
       "    }\n",
       "\n",
       "    .dataframe thead th {\n",
       "        text-align: right;\n",
       "    }\n",
       "</style>\n",
       "<table border=\"1\" class=\"dataframe\">\n",
       "  <thead>\n",
       "    <tr style=\"text-align: right;\">\n",
       "      <th></th>\n",
       "      <th>sum_sq</th>\n",
       "      <th>df</th>\n",
       "      <th>mean_sq</th>\n",
       "      <th>F</th>\n",
       "      <th>PR(&gt;F)</th>\n",
       "      <th>eta_sq</th>\n",
       "      <th>omega_sq</th>\n",
       "    </tr>\n",
       "  </thead>\n",
       "  <tbody>\n",
       "    <tr>\n",
       "      <th>C(Filter)</th>\n",
       "      <td>4.936149</td>\n",
       "      <td>1.0</td>\n",
       "      <td>4.936149</td>\n",
       "      <td>6.266374</td>\n",
       "      <td>1.250136e-02</td>\n",
       "      <td>0.006650</td>\n",
       "      <td>0.005583</td>\n",
       "    </tr>\n",
       "    <tr>\n",
       "      <th>C(Topic)</th>\n",
       "      <td>82.429613</td>\n",
       "      <td>3.0</td>\n",
       "      <td>27.476538</td>\n",
       "      <td>34.881088</td>\n",
       "      <td>3.329665e-21</td>\n",
       "      <td>0.111046</td>\n",
       "      <td>0.107748</td>\n",
       "    </tr>\n",
       "    <tr>\n",
       "      <th>C(Topic):C(Filter)</th>\n",
       "      <td>18.457249</td>\n",
       "      <td>3.0</td>\n",
       "      <td>6.152416</td>\n",
       "      <td>7.810408</td>\n",
       "      <td>3.826640e-05</td>\n",
       "      <td>0.024865</td>\n",
       "      <td>0.021658</td>\n",
       "    </tr>\n",
       "    <tr>\n",
       "      <th>Residual</th>\n",
       "      <td>636.477925</td>\n",
       "      <td>808.0</td>\n",
       "      <td>0.787720</td>\n",
       "      <td>NaN</td>\n",
       "      <td>NaN</td>\n",
       "      <td>NaN</td>\n",
       "      <td>NaN</td>\n",
       "    </tr>\n",
       "  </tbody>\n",
       "</table>\n",
       "</div>"
      ],
      "text/plain": [
       "                        sum_sq     df    mean_sq          F        PR(>F)  \\\n",
       "C(Filter)             4.936149    1.0   4.936149   6.266374  1.250136e-02   \n",
       "C(Topic)             82.429613    3.0  27.476538  34.881088  3.329665e-21   \n",
       "C(Topic):C(Filter)   18.457249    3.0   6.152416   7.810408  3.826640e-05   \n",
       "Residual            636.477925  808.0   0.787720        NaN           NaN   \n",
       "\n",
       "                      eta_sq  omega_sq  \n",
       "C(Filter)           0.006650  0.005583  \n",
       "C(Topic)            0.111046  0.107748  \n",
       "C(Topic):C(Filter)  0.024865  0.021658  \n",
       "Residual                 NaN       NaN  "
      ]
     },
     "execution_count": 11,
     "metadata": {},
     "output_type": "execute_result"
    }
   ],
   "source": [
    "def anova_table(aov):\n",
    "    aov['mean_sq'] = aov[:]['sum_sq']/aov[:]['df']\n",
    "\n",
    "    aov['eta_sq'] = aov[:-1]['sum_sq']/sum(aov['sum_sq'])\n",
    "\n",
    "    aov['omega_sq'] = (aov[:-1]['sum_sq']-(aov[:-1]['df']*aov['mean_sq'][-1]))/(sum(aov['sum_sq'])+aov['mean_sq'][-1])\n",
    "\n",
    "    cols = ['sum_sq', 'df', 'mean_sq', 'F', 'PR(>F)', 'eta_sq', 'omega_sq']\n",
    "    aov = aov[cols]\n",
    "    return aov\n",
    "\n",
    "anova_table(aov_table)"
   ]
  },
  {
   "cell_type": "code",
   "execution_count": 12,
   "id": "3fc8c35f",
   "metadata": {},
   "outputs": [
    {
     "data": {
      "image/png": "[encoded data removed]",
      "text/plain": [
       "<Figure size 640x480 with 1 Axes>"
      ]
     },
     "metadata": {},
     "output_type": "display_data"
    }
   ],
   "source": [
    "sns.pointplot(x='Topic', y='Avg', hue='Filter', data=df)\n",
    "\n",
    "# Add labels and a title\n",
    "plt.xlabel('Topic')\n",
    "plt.ylabel('Perceived_trust')\n",
    "plt.title('Interaction Plot of Topic and Filter')\n",
    "\n",
    "# Show the plot\n",
    "plt.show()"
   ]
  },
  {
   "cell_type": "code",
   "execution_count": null,
   "id": "5b9fcfa7",
   "metadata": {},
   "outputs": [],
   "source": []
  },
  {
   "cell_type": "code",
   "execution_count": null,
   "id": "e5b9b784",
   "metadata": {},
   "outputs": [],
   "source": []
  }
 ],
 "metadata": {
  "kernelspec": {
   "display_name": "Python 3 (ipykernel)",
   "language": "python",
   "name": "python3"
  },
  "language_info": {
   "codemirror_mode": {
    "name": "ipython",
    "version": 3
   },
   "file_extension": ".py",
   "mimetype": "text/x-python",
   "name": "python",
   "nbconvert_exporter": "python",
   "pygments_lexer": "ipython3",
   "version": "3.10.8"
  }
 },
 "nbformat": 4,
 "nbformat_minor": 5
}
