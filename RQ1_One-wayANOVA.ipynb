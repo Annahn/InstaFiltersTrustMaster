{
 "cells": [
  {
   "cell_type": "code",
   "execution_count": 1,
   "id": "d55be7f3",
   "metadata": {},
   "outputs": [],
   "source": [
    "# All the imports and packages used\n",
    "import pandas as pd \n",
    "import researchpy as rp\n",
    "import numpy as np\n",
    "import scipy.stats as stats\n",
    "import statsmodels.api as sm\n",
    "from statsmodels.formula.api import ols\n",
    "\n",
    "# Read the dataset\n",
    "df = pd.read_csv('rq1dataset.csv')"
   ]
  },
  {
   "cell_type": "markdown",
   "id": "8aed0a6a",
   "metadata": {},
   "source": [
    "# RQ1 - One way ANOVA for Perceived trust  vs Filter"
   ]
  },
  {
   "cell_type": "code",
   "execution_count": 2,
   "id": "410acf1a",
   "metadata": {},
   "outputs": [
    {
     "data": {
      "text/html": [
       "<div>\n",
       "<style scoped>\n",
       "    .dataframe tbody tr th:only-of-type {\n",
       "        vertical-align: middle;\n",
       "    }\n",
       "\n",
       "    .dataframe tbody tr th {\n",
       "        vertical-align: top;\n",
       "    }\n",
       "\n",
       "    .dataframe thead th {\n",
       "        text-align: right;\n",
       "    }\n",
       "</style>\n",
       "<table border=\"1\" class=\"dataframe\">\n",
       "  <thead>\n",
       "    <tr style=\"text-align: right;\">\n",
       "      <th></th>\n",
       "      <th>sum_sq</th>\n",
       "      <th>df</th>\n",
       "      <th>F</th>\n",
       "      <th>PR(&gt;F)</th>\n",
       "    </tr>\n",
       "  </thead>\n",
       "  <tbody>\n",
       "    <tr>\n",
       "      <th>C(Filter)</th>\n",
       "      <td>5.586703</td>\n",
       "      <td>3.0</td>\n",
       "      <td>2.050846</td>\n",
       "      <td>0.10531</td>\n",
       "    </tr>\n",
       "    <tr>\n",
       "      <th>Residual</th>\n",
       "      <td>737.322304</td>\n",
       "      <td>812.0</td>\n",
       "      <td>NaN</td>\n",
       "      <td>NaN</td>\n",
       "    </tr>\n",
       "  </tbody>\n",
       "</table>\n",
       "</div>"
      ],
      "text/plain": [
       "               sum_sq     df         F   PR(>F)\n",
       "C(Filter)    5.586703    3.0  2.050846  0.10531\n",
       "Residual   737.322304  812.0       NaN      NaN"
      ]
     },
     "execution_count": 2,
     "metadata": {},
     "output_type": "execute_result"
    }
   ],
   "source": [
    "model = ols('Perceived_trust ~ C(Filter)', data=df).fit()\n",
    "aov_table = sm.stats.anova_lm(model, typ=2)\n",
    "aov_table"
   ]
  },
  {
   "cell_type": "code",
   "execution_count": 3,
   "id": "b2b7af93",
   "metadata": {},
   "outputs": [
    {
     "data": {
      "text/html": [
       "<div>\n",
       "<style scoped>\n",
       "    .dataframe tbody tr th:only-of-type {\n",
       "        vertical-align: middle;\n",
       "    }\n",
       "\n",
       "    .dataframe tbody tr th {\n",
       "        vertical-align: top;\n",
       "    }\n",
       "\n",
       "    .dataframe thead th {\n",
       "        text-align: right;\n",
       "    }\n",
       "</style>\n",
       "<table border=\"1\" class=\"dataframe\">\n",
       "  <thead>\n",
       "    <tr style=\"text-align: right;\">\n",
       "      <th></th>\n",
       "      <th>sum_sq</th>\n",
       "      <th>df</th>\n",
       "      <th>mean_sq</th>\n",
       "      <th>F</th>\n",
       "      <th>PR(&gt;F)</th>\n",
       "      <th>eta_sq</th>\n",
       "      <th>omega_sq</th>\n",
       "    </tr>\n",
       "  </thead>\n",
       "  <tbody>\n",
       "    <tr>\n",
       "      <th>C(Filter)</th>\n",
       "      <td>5.586703</td>\n",
       "      <td>3.0</td>\n",
       "      <td>1.862234</td>\n",
       "      <td>2.050846</td>\n",
       "      <td>0.10531</td>\n",
       "      <td>0.00752</td>\n",
       "      <td>0.003849</td>\n",
       "    </tr>\n",
       "    <tr>\n",
       "      <th>Residual</th>\n",
       "      <td>737.322304</td>\n",
       "      <td>812.0</td>\n",
       "      <td>0.908032</td>\n",
       "      <td>NaN</td>\n",
       "      <td>NaN</td>\n",
       "      <td>NaN</td>\n",
       "      <td>NaN</td>\n",
       "    </tr>\n",
       "  </tbody>\n",
       "</table>\n",
       "</div>"
      ],
      "text/plain": [
       "               sum_sq     df   mean_sq         F   PR(>F)   eta_sq  omega_sq\n",
       "C(Filter)    5.586703    3.0  1.862234  2.050846  0.10531  0.00752  0.003849\n",
       "Residual   737.322304  812.0  0.908032       NaN      NaN      NaN       NaN"
      ]
     },
     "execution_count": 3,
     "metadata": {},
     "output_type": "execute_result"
    }
   ],
   "source": [
    "def anova_table(aov):\n",
    "    aov['mean_sq'] = aov[:]['sum_sq']/aov[:]['df']\n",
    "\n",
    "    aov['eta_sq'] = aov[:-1]['sum_sq']/sum(aov['sum_sq'])\n",
    "\n",
    "    aov['omega_sq'] = (aov[:-1]['sum_sq']-(aov[:-1]['df']*aov['mean_sq'][-1]))/(sum(aov['sum_sq'])+aov['mean_sq'][-1])\n",
    "\n",
    "    cols = ['sum_sq', 'df', 'mean_sq', 'F', 'PR(>F)', 'eta_sq', 'omega_sq']\n",
    "    aov = aov[cols]\n",
    "    return aov\n",
    "\n",
    "anova_table(aov_table)"
   ]
  },
  {
   "cell_type": "markdown",
   "id": "4db09fa0",
   "metadata": {},
   "source": [
    "## Check for Homogeneity of variance\n"
   ]
  },
  {
   "cell_type": "code",
   "execution_count": 4,
   "id": "000f7aa9",
   "metadata": {},
   "outputs": [
    {
     "data": {
      "text/plain": [
       "LeveneResult(statistic=0.09144641509802294, pvalue=0.964757732653232)"
      ]
     },
     "execution_count": 4,
     "metadata": {},
     "output_type": "execute_result"
    }
   ],
   "source": [
    "stats.levene(df['Perceived_trust'][df['Filter'] == 'Original'],\n",
    "               df['Perceived_trust'][df['Filter'] == 'Nashville'],\n",
    "               df['Perceived_trust'][df['Filter'] == 'Willow'],\n",
    "               df['Perceived_trust'][df['Filter'] == 'LOFI']\n",
    "              )"
   ]
  },
  {
   "cell_type": "markdown",
   "id": "e3f60c1e",
   "metadata": {},
   "source": [
    "## Assumption check - Shapiro-Wilk test\n"
   ]
  },
  {
   "cell_type": "code",
   "execution_count": 23,
   "id": "2911a3b1",
   "metadata": {},
   "outputs": [
    {
     "data": {
      "text/plain": [
       "ShapiroResult(statistic=0.9774176478385925, pvalue=6.461462476181623e-10)"
      ]
     },
     "execution_count": 23,
     "metadata": {},
     "output_type": "execute_result"
    }
   ],
   "source": [
    "stats.shapiro(model.resid)"
   ]
  },
  {
   "cell_type": "code",
   "execution_count": null,
   "id": "b7728103",
   "metadata": {},
   "outputs": [],
   "source": []
  }
 ],
 "metadata": {
  "kernelspec": {
   "display_name": "Python 3 (ipykernel)",
   "language": "python",
   "name": "python3"
  },
  "language_info": {
   "codemirror_mode": {
    "name": "ipython",
    "version": 3
   },
   "file_extension": ".py",
   "mimetype": "text/x-python",
   "name": "python",
   "nbconvert_exporter": "python",
   "pygments_lexer": "ipython3",
   "version": "3.10.8"
  }
 },
 "nbformat": 4,
 "nbformat_minor": 5
}
