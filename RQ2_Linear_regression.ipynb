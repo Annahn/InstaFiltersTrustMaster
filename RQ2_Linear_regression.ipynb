{
 "cells": [
  {
   "cell_type": "code",
   "execution_count": 16,
   "id": "76db3449",
   "metadata": {},
   "outputs": [],
   "source": [
    "# All the packages and imports\n",
    "import pandas as pd \n",
    "import researchpy as rp\n",
    "import numpy as np\n",
    "from scipy.stats import pearsonr\n",
    "import statsmodels.api as sm\n",
    "import statsmodels.formula.api as smf\n",
    "from statsmodels.stats.outliers_influence import variance_inflation_factor\n",
    "import patsy\n",
    "\n",
    "\n",
    "# Read the dataset\n",
    "rq2 = pd.read_csv('rq2dataset.csv')"
   ]
  },
  {
   "cell_type": "code",
   "execution_count": 17,
   "id": "598fb0bb",
   "metadata": {},
   "outputs": [
    {
     "data": {
      "text/html": [
       "<div>\n",
       "<style scoped>\n",
       "    .dataframe tbody tr th:only-of-type {\n",
       "        vertical-align: middle;\n",
       "    }\n",
       "\n",
       "    .dataframe tbody tr th {\n",
       "        vertical-align: top;\n",
       "    }\n",
       "\n",
       "    .dataframe thead th {\n",
       "        text-align: right;\n",
       "    }\n",
       "</style>\n",
       "<table border=\"1\" class=\"dataframe\">\n",
       "  <thead>\n",
       "    <tr style=\"text-align: right;\">\n",
       "      <th></th>\n",
       "      <th>xv</th>\n",
       "      <th>yv</th>\n",
       "      <th>zv</th>\n",
       "    </tr>\n",
       "  </thead>\n",
       "  <tbody>\n",
       "    <tr>\n",
       "      <th>xv</th>\n",
       "      <td>1.000000</td>\n",
       "      <td>0.100584</td>\n",
       "      <td>0.152855</td>\n",
       "    </tr>\n",
       "    <tr>\n",
       "      <th>yv</th>\n",
       "      <td>0.100584</td>\n",
       "      <td>1.000000</td>\n",
       "      <td>0.200025</td>\n",
       "    </tr>\n",
       "    <tr>\n",
       "      <th>zv</th>\n",
       "      <td>0.152855</td>\n",
       "      <td>0.200025</td>\n",
       "      <td>1.000000</td>\n",
       "    </tr>\n",
       "  </tbody>\n",
       "</table>\n",
       "</div>"
      ],
      "text/plain": [
       "          xv        yv        zv\n",
       "xv  1.000000  0.100584  0.152855\n",
       "yv  0.100584  1.000000  0.200025\n",
       "zv  0.152855  0.200025  1.000000"
      ]
     },
     "execution_count": 17,
     "metadata": {},
     "output_type": "execute_result"
    }
   ],
   "source": [
    "dat1 = rq2['General_trust']\n",
    "dat2 = rq2['Attitude']\n",
    "dat3 =  rq2['Perceived_trust']\n",
    "\n",
    "xyz = pd.DataFrame({'xv' : dat1,\n",
    "                   'yv' : dat2,\n",
    "                   'zv':dat3})\n",
    "\n",
    "xyz.corr()"
   ]
  },
  {
   "cell_type": "markdown",
   "id": "d24ee931",
   "metadata": {},
   "source": [
    "# RQ2 - Linear regression"
   ]
  },
  {
   "cell_type": "code",
   "execution_count": 18,
   "id": "46fdb34a",
   "metadata": {},
   "outputs": [
    {
     "data": {
      "text/html": [
       "<table class=\"simpletable\">\n",
       "<caption>OLS Regression Results</caption>\n",
       "<tr>\n",
       "  <th>Dep. Variable:</th>     <td>Perceived_trust</td> <th>  R-squared:         </th> <td>   0.058</td>\n",
       "</tr>\n",
       "<tr>\n",
       "  <th>Model:</th>                   <td>OLS</td>       <th>  Adj. R-squared:    </th> <td>   0.055</td>\n",
       "</tr>\n",
       "<tr>\n",
       "  <th>Method:</th>             <td>Least Squares</td>  <th>  F-statistic:       </th> <td>   24.94</td>\n",
       "</tr>\n",
       "<tr>\n",
       "  <th>Date:</th>             <td>Thu, 25 May 2023</td> <th>  Prob (F-statistic):</th> <td>3.07e-11</td>\n",
       "</tr>\n",
       "<tr>\n",
       "  <th>Time:</th>                 <td>17:16:32</td>     <th>  Log-Likelihood:    </th> <td> -1095.3</td>\n",
       "</tr>\n",
       "<tr>\n",
       "  <th>No. Observations:</th>      <td>   816</td>      <th>  AIC:               </th> <td>   2197.</td>\n",
       "</tr>\n",
       "<tr>\n",
       "  <th>Df Residuals:</th>          <td>   813</td>      <th>  BIC:               </th> <td>   2211.</td>\n",
       "</tr>\n",
       "<tr>\n",
       "  <th>Df Model:</th>              <td>     2</td>      <th>                     </th>     <td> </td>   \n",
       "</tr>\n",
       "<tr>\n",
       "  <th>Covariance Type:</th>      <td>nonrobust</td>    <th>                     </th>     <td> </td>   \n",
       "</tr>\n",
       "</table>\n",
       "<table class=\"simpletable\">\n",
       "<tr>\n",
       "        <td></td>           <th>coef</th>     <th>std err</th>      <th>t</th>      <th>P>|t|</th>  <th>[0.025</th>    <th>0.975]</th>  \n",
       "</tr>\n",
       "<tr>\n",
       "  <th>Intercept</th>     <td>    1.9102</td> <td>    0.144</td> <td>   13.285</td> <td> 0.000</td> <td>    1.628</td> <td>    2.192</td>\n",
       "</tr>\n",
       "<tr>\n",
       "  <th>General_trust</th> <td>    0.0653</td> <td>    0.017</td> <td>    3.919</td> <td> 0.000</td> <td>    0.033</td> <td>    0.098</td>\n",
       "</tr>\n",
       "<tr>\n",
       "  <th>Attitude</th>      <td>    0.1734</td> <td>    0.032</td> <td>    5.452</td> <td> 0.000</td> <td>    0.111</td> <td>    0.236</td>\n",
       "</tr>\n",
       "</table>\n",
       "<table class=\"simpletable\">\n",
       "<tr>\n",
       "  <th>Omnibus:</th>       <td>14.411</td> <th>  Durbin-Watson:     </th> <td>   1.767</td>\n",
       "</tr>\n",
       "<tr>\n",
       "  <th>Prob(Omnibus):</th> <td> 0.001</td> <th>  Jarque-Bera (JB):  </th> <td>  12.206</td>\n",
       "</tr>\n",
       "<tr>\n",
       "  <th>Skew:</th>          <td>-0.229</td> <th>  Prob(JB):          </th> <td> 0.00224</td>\n",
       "</tr>\n",
       "<tr>\n",
       "  <th>Kurtosis:</th>      <td> 2.613</td> <th>  Cond. No.          </th> <td>    30.0</td>\n",
       "</tr>\n",
       "</table><br/><br/>Notes:<br/>[1] Standard Errors assume that the covariance matrix of the errors is correctly specified."
      ],
      "text/plain": [
       "<class 'statsmodels.iolib.summary.Summary'>\n",
       "\"\"\"\n",
       "                            OLS Regression Results                            \n",
       "==============================================================================\n",
       "Dep. Variable:        Perceived_trust   R-squared:                       0.058\n",
       "Model:                            OLS   Adj. R-squared:                  0.055\n",
       "Method:                 Least Squares   F-statistic:                     24.94\n",
       "Date:                Thu, 25 May 2023   Prob (F-statistic):           3.07e-11\n",
       "Time:                        17:16:32   Log-Likelihood:                -1095.3\n",
       "No. Observations:                 816   AIC:                             2197.\n",
       "Df Residuals:                     813   BIC:                             2211.\n",
       "Df Model:                           2                                         \n",
       "Covariance Type:            nonrobust                                         \n",
       "=================================================================================\n",
       "                    coef    std err          t      P>|t|      [0.025      0.975]\n",
       "---------------------------------------------------------------------------------\n",
       "Intercept         1.9102      0.144     13.285      0.000       1.628       2.192\n",
       "General_trust     0.0653      0.017      3.919      0.000       0.033       0.098\n",
       "Attitude          0.1734      0.032      5.452      0.000       0.111       0.236\n",
       "==============================================================================\n",
       "Omnibus:                       14.411   Durbin-Watson:                   1.767\n",
       "Prob(Omnibus):                  0.001   Jarque-Bera (JB):               12.206\n",
       "Skew:                          -0.229   Prob(JB):                      0.00224\n",
       "Kurtosis:                       2.613   Cond. No.                         30.0\n",
       "==============================================================================\n",
       "\n",
       "Notes:\n",
       "[1] Standard Errors assume that the covariance matrix of the errors is correctly specified.\n",
       "\"\"\""
      ]
     },
     "execution_count": 18,
     "metadata": {},
     "output_type": "execute_result"
    }
   ],
   "source": [
    "model4 = smf.ols(\"Perceived_trust ~ General_trust + Attitude\", rq2).fit()\n",
    "model4.summary()"
   ]
  },
  {
   "cell_type": "markdown",
   "id": "fd04fb6e",
   "metadata": {},
   "source": [
    "## Check for assumptions"
   ]
  },
  {
   "cell_type": "code",
   "execution_count": 23,
   "id": "b376e541",
   "metadata": {},
   "outputs": [
    {
     "data": {
      "text/html": [
       "<div>\n",
       "<style scoped>\n",
       "    .dataframe tbody tr th:only-of-type {\n",
       "        vertical-align: middle;\n",
       "    }\n",
       "\n",
       "    .dataframe tbody tr th {\n",
       "        vertical-align: top;\n",
       "    }\n",
       "\n",
       "    .dataframe thead th {\n",
       "        text-align: right;\n",
       "    }\n",
       "</style>\n",
       "<table border=\"1\" class=\"dataframe\">\n",
       "  <thead>\n",
       "    <tr style=\"text-align: right;\">\n",
       "      <th></th>\n",
       "      <th>VIF Factor</th>\n",
       "      <th>Features</th>\n",
       "    </tr>\n",
       "  </thead>\n",
       "  <tbody>\n",
       "    <tr>\n",
       "      <th>0</th>\n",
       "      <td>19.596944</td>\n",
       "      <td>Intercept</td>\n",
       "    </tr>\n",
       "    <tr>\n",
       "      <th>1</th>\n",
       "      <td>1.010220</td>\n",
       "      <td>General_trust</td>\n",
       "    </tr>\n",
       "    <tr>\n",
       "      <th>2</th>\n",
       "      <td>1.010220</td>\n",
       "      <td>Attitude</td>\n",
       "    </tr>\n",
       "  </tbody>\n",
       "</table>\n",
       "</div>"
      ],
      "text/plain": [
       "   VIF Factor       Features\n",
       "0   19.596944      Intercept\n",
       "1    1.010220  General_trust\n",
       "2    1.010220       Attitude"
      ]
     },
     "execution_count": 23,
     "metadata": {},
     "output_type": "execute_result"
    }
   ],
   "source": [
    "# This creates the design matrix used by StatsModels\n",
    "x = patsy.dmatrix(\"General_trust + Attitude\", data = rq2)\n",
    "\n",
    "vif = pd.DataFrame()\n",
    "vif[\"VIF Factor\"] = [variance_inflation_factor(x, i) for i in range(x.shape[1])]\n",
    "vif[\"Features\"] = x.design_info.term_names\n",
    "\n",
    "vif"
   ]
  },
  {
   "cell_type": "code",
   "execution_count": 24,
   "id": "b44a8287",
   "metadata": {},
   "outputs": [],
   "source": [
    "x = np.asarray(patsy.dmatrix(\"General_trust + Attitude\", data = rq2))"
   ]
  },
  {
   "cell_type": "code",
   "execution_count": 25,
   "id": "b85c9117",
   "metadata": {},
   "outputs": [
    {
     "data": {
      "text/plain": [
       "[1.0, 4.945545198885372, 30.02896501939751]"
      ]
     },
     "execution_count": 25,
     "metadata": {},
     "output_type": "execute_result"
    }
   ],
   "source": [
    "# Getting the singular values from SVD\n",
    "\n",
    "_, sing_as, _ = np.linalg.svd(x)\n",
    "\n",
    "\n",
    "# Calculating the condiction index\n",
    "\n",
    "condition_index = []\n",
    "\n",
    "for n in sing_as:\n",
    "    ci = sing_as.max() / n\n",
    "    condition_index.append(ci)\n",
    "\n",
    "condition_index"
   ]
  },
  {
   "cell_type": "code",
   "execution_count": 26,
   "id": "5b025e97",
   "metadata": {},
   "outputs": [
    {
     "data": {
      "text/html": [
       "<div>\n",
       "<style scoped>\n",
       "    .dataframe tbody tr th:only-of-type {\n",
       "        vertical-align: middle;\n",
       "    }\n",
       "\n",
       "    .dataframe tbody tr th {\n",
       "        vertical-align: top;\n",
       "    }\n",
       "\n",
       "    .dataframe thead th {\n",
       "        text-align: right;\n",
       "    }\n",
       "</style>\n",
       "<table border=\"1\" class=\"dataframe\">\n",
       "  <thead>\n",
       "    <tr style=\"text-align: right;\">\n",
       "      <th></th>\n",
       "      <th>Eigenvalues</th>\n",
       "      <th>Condition Index</th>\n",
       "    </tr>\n",
       "  </thead>\n",
       "  <tbody>\n",
       "    <tr>\n",
       "      <th>0</th>\n",
       "      <td>36342.3</td>\n",
       "      <td>1.0</td>\n",
       "    </tr>\n",
       "    <tr>\n",
       "      <th>1</th>\n",
       "      <td>1485.9</td>\n",
       "      <td>4.9</td>\n",
       "    </tr>\n",
       "    <tr>\n",
       "      <th>2</th>\n",
       "      <td>40.3</td>\n",
       "      <td>30.0</td>\n",
       "    </tr>\n",
       "  </tbody>\n",
       "</table>\n",
       "</div>"
      ],
      "text/plain": [
       "   Eigenvalues  Condition Index\n",
       "0      36342.3              1.0\n",
       "1       1485.9              4.9\n",
       "2         40.3             30.0"
      ]
     },
     "execution_count": 26,
     "metadata": {},
     "output_type": "execute_result"
    }
   ],
   "source": [
    "eigen_vals = (sing_as * sing_as).round(3)\n",
    "\n",
    "pd.DataFrame(np.c_[eigen_vals, condition_index],\n",
    "             columns = [\"Eigenvalues\", \"Condition Index\"]).round(1)"
   ]
  },
  {
   "cell_type": "code",
   "execution_count": null,
   "id": "f80f0fe2",
   "metadata": {},
   "outputs": [],
   "source": []
  },
  {
   "cell_type": "code",
   "execution_count": null,
   "id": "b3e5420f",
   "metadata": {},
   "outputs": [],
   "source": []
  }
 ],
 "metadata": {
  "kernelspec": {
   "display_name": "Python 3 (ipykernel)",
   "language": "python",
   "name": "python3"
  },
  "language_info": {
   "codemirror_mode": {
    "name": "ipython",
    "version": 3
   },
   "file_extension": ".py",
   "mimetype": "text/x-python",
   "name": "python",
   "nbconvert_exporter": "python",
   "pygments_lexer": "ipython3",
   "version": "3.10.8"
  }
 },
 "nbformat": 4,
 "nbformat_minor": 5
}
