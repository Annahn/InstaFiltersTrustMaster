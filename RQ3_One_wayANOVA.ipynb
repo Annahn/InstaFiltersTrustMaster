{
 "cells": [
  {
   "cell_type": "code",
   "execution_count": 21,
   "id": "6fc15cab",
   "metadata": {},
   "outputs": [],
   "source": [
    "# All the imports and packages used\n",
    "import pandas as pd \n",
    "import researchpy as rp\n",
    "import numpy as np\n",
    "import scipy.stats as stats\n",
    "import statsmodels.api as sm\n",
    "from statsmodels.formula.api import ols\n",
    "import statsmodels.stats.multicomp as mc\n",
    "\n",
    "\n",
    "rq3 = pd.read_csv('rq3dataset.csv')"
   ]
  },
  {
   "cell_type": "markdown",
   "id": "e12077c4",
   "metadata": {},
   "source": [
    "# RQ3 - One way ANOVA for Perceived trust  vs Topics\n"
   ]
  },
  {
   "cell_type": "code",
   "execution_count": 22,
   "id": "15b5989a",
   "metadata": {},
   "outputs": [
    {
     "data": {
      "text/html": [
       "<div>\n",
       "<style scoped>\n",
       "    .dataframe tbody tr th:only-of-type {\n",
       "        vertical-align: middle;\n",
       "    }\n",
       "\n",
       "    .dataframe tbody tr th {\n",
       "        vertical-align: top;\n",
       "    }\n",
       "\n",
       "    .dataframe thead th {\n",
       "        text-align: right;\n",
       "    }\n",
       "</style>\n",
       "<table border=\"1\" class=\"dataframe\">\n",
       "  <thead>\n",
       "    <tr style=\"text-align: right;\">\n",
       "      <th></th>\n",
       "      <th>sum_sq</th>\n",
       "      <th>df</th>\n",
       "      <th>F</th>\n",
       "      <th>PR(&gt;F)</th>\n",
       "    </tr>\n",
       "  </thead>\n",
       "  <tbody>\n",
       "    <tr>\n",
       "      <th>C(Topic)</th>\n",
       "      <td>83.037684</td>\n",
       "      <td>3.0</td>\n",
       "      <td>34.060479</td>\n",
       "      <td>9.684172e-21</td>\n",
       "    </tr>\n",
       "    <tr>\n",
       "      <th>Residual</th>\n",
       "      <td>659.871324</td>\n",
       "      <td>812.0</td>\n",
       "      <td>NaN</td>\n",
       "      <td>NaN</td>\n",
       "    </tr>\n",
       "  </tbody>\n",
       "</table>\n",
       "</div>"
      ],
      "text/plain": [
       "              sum_sq     df          F        PR(>F)\n",
       "C(Topic)   83.037684    3.0  34.060479  9.684172e-21\n",
       "Residual  659.871324  812.0        NaN           NaN"
      ]
     },
     "execution_count": 22,
     "metadata": {},
     "output_type": "execute_result"
    }
   ],
   "source": [
    "model3 = ols('Trust ~ C(Topic)', data=rq3).fit()\n",
    "aov_table3 = sm.stats.anova_lm(model3, typ=2)\n",
    "aov_table3"
   ]
  },
  {
   "cell_type": "code",
   "execution_count": 23,
   "id": "93ce41e3",
   "metadata": {},
   "outputs": [
    {
     "data": {
      "text/html": [
       "<div>\n",
       "<style scoped>\n",
       "    .dataframe tbody tr th:only-of-type {\n",
       "        vertical-align: middle;\n",
       "    }\n",
       "\n",
       "    .dataframe tbody tr th {\n",
       "        vertical-align: top;\n",
       "    }\n",
       "\n",
       "    .dataframe thead th {\n",
       "        text-align: right;\n",
       "    }\n",
       "</style>\n",
       "<table border=\"1\" class=\"dataframe\">\n",
       "  <thead>\n",
       "    <tr style=\"text-align: right;\">\n",
       "      <th></th>\n",
       "      <th>sum_sq</th>\n",
       "      <th>df</th>\n",
       "      <th>mean_sq</th>\n",
       "      <th>F</th>\n",
       "      <th>PR(&gt;F)</th>\n",
       "      <th>eta_sq</th>\n",
       "      <th>omega_sq</th>\n",
       "    </tr>\n",
       "  </thead>\n",
       "  <tbody>\n",
       "    <tr>\n",
       "      <th>C(Topic)</th>\n",
       "      <td>83.037684</td>\n",
       "      <td>3.0</td>\n",
       "      <td>27.679228</td>\n",
       "      <td>34.060479</td>\n",
       "      <td>9.684172e-21</td>\n",
       "      <td>0.111774</td>\n",
       "      <td>0.108374</td>\n",
       "    </tr>\n",
       "    <tr>\n",
       "      <th>Residual</th>\n",
       "      <td>659.871324</td>\n",
       "      <td>812.0</td>\n",
       "      <td>0.812649</td>\n",
       "      <td>NaN</td>\n",
       "      <td>NaN</td>\n",
       "      <td>NaN</td>\n",
       "      <td>NaN</td>\n",
       "    </tr>\n",
       "  </tbody>\n",
       "</table>\n",
       "</div>"
      ],
      "text/plain": [
       "              sum_sq     df    mean_sq          F        PR(>F)    eta_sq  \\\n",
       "C(Topic)   83.037684    3.0  27.679228  34.060479  9.684172e-21  0.111774   \n",
       "Residual  659.871324  812.0   0.812649        NaN           NaN       NaN   \n",
       "\n",
       "          omega_sq  \n",
       "C(Topic)  0.108374  \n",
       "Residual       NaN  "
      ]
     },
     "execution_count": 23,
     "metadata": {},
     "output_type": "execute_result"
    }
   ],
   "source": [
    "def anova_table(aov):\n",
    "    aov['mean_sq'] = aov[:]['sum_sq']/aov[:]['df']\n",
    "\n",
    "    aov['eta_sq'] = aov[:-1]['sum_sq']/sum(aov['sum_sq'])\n",
    "\n",
    "    aov['omega_sq'] = (aov[:-1]['sum_sq']-(aov[:-1]['df']*aov['mean_sq'][-1]))/(sum(aov['sum_sq'])+aov['mean_sq'][-1])\n",
    "\n",
    "    cols = ['sum_sq', 'df', 'mean_sq', 'F', 'PR(>F)', 'eta_sq', 'omega_sq']\n",
    "    aov = aov[cols]\n",
    "    return aov\n",
    "\n",
    "anova_table(aov_table3)"
   ]
  },
  {
   "cell_type": "markdown",
   "id": "b533e199",
   "metadata": {},
   "source": [
    "## Check for Homogeneity of variance\n"
   ]
  },
  {
   "cell_type": "code",
   "execution_count": 24,
   "id": "31944da7",
   "metadata": {},
   "outputs": [
    {
     "data": {
      "text/plain": [
       "LeveneResult(statistic=10.653961560975283, pvalue=7.110863232125349e-07)"
      ]
     },
     "execution_count": 24,
     "metadata": {},
     "output_type": "execute_result"
    }
   ],
   "source": [
    "stats.levene(rq3['Trust'][rq3['Topic'] == 'Abortion'],\n",
    "               rq3['Trust'][rq3['Topic'] == 'Climate change'],\n",
    "               rq3['Trust'][rq3['Topic'] == 'Entertainment'],\n",
    "               rq3['Trust'][rq3['Topic'] == 'Gun control']\n",
    "              )"
   ]
  },
  {
   "cell_type": "markdown",
   "id": "e2136d64",
   "metadata": {},
   "source": [
    "## Assumption check - Shapiro-Wilk test\n"
   ]
  },
  {
   "cell_type": "code",
   "execution_count": 25,
   "id": "41b9ccef",
   "metadata": {},
   "outputs": [
    {
     "data": {
      "text/plain": [
       "ShapiroResult(statistic=0.9918550848960876, pvalue=0.0001825274812290445)"
      ]
     },
     "execution_count": 25,
     "metadata": {},
     "output_type": "execute_result"
    }
   ],
   "source": [
    "stats.shapiro(model3.resid)"
   ]
  },
  {
   "cell_type": "markdown",
   "id": "db887cc6",
   "metadata": {},
   "source": [
    "## Post Hoc - Tukey Honestly Significant Difference (HSD)\n"
   ]
  },
  {
   "cell_type": "code",
   "execution_count": 26,
   "id": "387813cf",
   "metadata": {},
   "outputs": [
    {
     "data": {
      "text/html": [
       "<table class=\"simpletable\">\n",
       "<caption>Multiple Comparison of Means - Tukey HSD, FWER=0.05</caption>\n",
       "<tr>\n",
       "      <th>group1</th>         <th>group2</th>     <th>meandiff</th>  <th>p-adj</th>  <th>lower</th>   <th>upper</th>  <th>reject</th>\n",
       "</tr>\n",
       "<tr>\n",
       "     <td>Abortion</td>    <td>Climate change</td>  <td>0.3603</td>  <td>0.0003</td> <td>0.1305</td>  <td>0.5901</td>   <td>True</td> \n",
       "</tr>\n",
       "<tr>\n",
       "     <td>Abortion</td>     <td>Entertainment</td>  <td>0.6471</td>    <td>0.0</td>  <td>0.4173</td>  <td>0.8768</td>   <td>True</td> \n",
       "</tr>\n",
       "<tr>\n",
       "     <td>Abortion</td>      <td>Gun control</td>   <td>-0.1765</td> <td>0.1975</td> <td>-0.4063</td> <td>0.0533</td>   <td>False</td>\n",
       "</tr>\n",
       "<tr>\n",
       "  <td>Climate change</td>  <td>Entertainment</td>  <td>0.2868</td>  <td>0.0075</td>  <td>0.057</td>  <td>0.5165</td>   <td>True</td> \n",
       "</tr>\n",
       "<tr>\n",
       "  <td>Climate change</td>   <td>Gun control</td>   <td>-0.5368</td>   <td>0.0</td>  <td>-0.7665</td> <td>-0.307</td>   <td>True</td> \n",
       "</tr>\n",
       "<tr>\n",
       "   <td>Entertainment</td>   <td>Gun control</td>   <td>-0.8235</td>   <td>0.0</td>  <td>-1.0533</td> <td>-0.5937</td>  <td>True</td> \n",
       "</tr>\n",
       "</table>"
      ],
      "text/plain": [
       "<class 'statsmodels.iolib.table.SimpleTable'>"
      ]
     },
     "execution_count": 26,
     "metadata": {},
     "output_type": "execute_result"
    }
   ],
   "source": [
    "comp = mc.MultiComparison(rq3['Trust'], rq3['Topic'])\n",
    "post_hoc_res3 = comp.tukeyhsd()\n",
    "post_hoc_res3.summary()"
   ]
  },
  {
   "cell_type": "code",
   "execution_count": null,
   "id": "21962b42",
   "metadata": {},
   "outputs": [],
   "source": []
  }
 ],
 "metadata": {
  "kernelspec": {
   "display_name": "Python 3 (ipykernel)",
   "language": "python",
   "name": "python3"
  },
  "language_info": {
   "codemirror_mode": {
    "name": "ipython",
    "version": 3
   },
   "file_extension": ".py",
   "mimetype": "text/x-python",
   "name": "python",
   "nbconvert_exporter": "python",
   "pygments_lexer": "ipython3",
   "version": "3.10.8"
  }
 },
 "nbformat": 4,
 "nbformat_minor": 5
}
